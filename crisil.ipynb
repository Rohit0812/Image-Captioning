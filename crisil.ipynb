{
 "cells": [
  {
   "cell_type": "code",
   "execution_count": null,
   "id": "f484caff",
   "metadata": {},
   "outputs": [],
   "source": [
    "\"\"\"\n",
    "Given an array of integers nums and an integer target, return indices of the two numbers such that they add up to target.\n",
    " \n",
    "\tYou may assume that each input would have exactly one solution, and you may not use the same element twice.\n",
    " \n",
    "\tYou can return the answer in any order.\n",
    " \n",
    "\t\n",
    " \n",
    "\tExample 1:\n",
    " \n",
    "\tInput: nums = [2,7,11,15], target = 9\n",
    "\n",
    "\tOutput: [0,1]\n",
    "\n",
    "\tExplanation: Because nums[0] + nums[1] == 9, we return [0, 1].\n",
    "\n",
    "\tExample 2:\n",
    " \n",
    "\tInput: nums = [3,2,4], target = 6\n",
    "\n",
    "\tOutput: [1,2]\n",
    "\n",
    "\tExample 3:\n",
    " \n",
    "\tInput: nums = [3,3], target = 6\n",
    "\n",
    "\tOutput: [0,1]\n",
    "\n",
    "    < O(n)\n",
    "\"\"\" "
   ]
  },
  {
   "cell_type": "code",
   "execution_count": 1,
   "id": "dfc9ae59",
   "metadata": {},
   "outputs": [
    {
     "name": "stdout",
     "output_type": "stream",
     "text": [
      "Components found at indices (0, 1)\n"
     ]
    }
   ],
   "source": [
    "nums = [2, 7, 11, 15]\n",
    "target = 9\n",
    "\n",
    "nums = sorted(nums)\n",
    "i, j = 0, len(nums) - 1\n",
    "while i < j:\n",
    "    if nums[i] + nums[j] == target:\n",
    "        print (f\"Components found at indices {i, j}\")\n",
    "        break\n",
    "    elif nums[i] + nums[j] > target:\n",
    "        j -= 1\n",
    "    elif nums[i] + nums[j] < target:\n",
    "        i += 1\n",
    "else:\n",
    "    print (\"Components not found\")"
   ]
  }
 ],
 "metadata": {
  "kernelspec": {
   "display_name": "ydata-profiling",
   "language": "python",
   "name": "python3"
  },
  "language_info": {
   "codemirror_mode": {
    "name": "ipython",
    "version": 3
   },
   "file_extension": ".py",
   "mimetype": "text/x-python",
   "name": "python",
   "nbconvert_exporter": "python",
   "pygments_lexer": "ipython3",
   "version": "3.12.9"
  }
 },
 "nbformat": 4,
 "nbformat_minor": 5
}
